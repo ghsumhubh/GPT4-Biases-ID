{
 "cells": [
  {
   "cell_type": "code",
   "execution_count": 15,
   "metadata": {},
   "outputs": [],
   "source": [
    "import pandas as pd\n",
    "import os\n",
    "import numpy as np\n",
    "import matplotlib.pyplot as plt\n",
    "import seaborn as sns\n",
    "from matplotlib import pyplot as plt"
   ]
  },
  {
   "cell_type": "code",
   "execution_count": 16,
   "metadata": {},
   "outputs": [],
   "source": [
    "def get_concacted_df_from_folder(folder_path):\n",
    "    csv_files = [f for f in os.listdir(folder_path) if f.endswith('.csv')]\n",
    "\n",
    "    # Read and concatenate all CSV files into one DataFrame\n",
    "    df_list = [pd.read_csv(os.path.join(folder_path, file)) for file in csv_files]\n",
    "    concatenated_df = pd.concat(df_list, ignore_index=True)\n",
    "    return concatenated_df"
   ]
  },
  {
   "cell_type": "code",
   "execution_count": 17,
   "metadata": {},
   "outputs": [],
   "source": [
    "GPT_ANSWER_FOLDER = 'responses/p2'\n",
    "df = get_concacted_df_from_folder(GPT_ANSWER_FOLDER)\n",
    "\n",
    "# make into dummies\n",
    "df_onehot = pd.get_dummies(df)\n",
    "\n",
    "# plot heatmap\n",
    "plt.figure(figsize=(15, 10))\n",
    "sns.heatmap(df_onehot.corr(), annot=False, cmap='coolwarm')\n",
    "plt.show()\n",
    "\n",
    "\n",
    "\n",
    "\n",
    "\n"
   ]
  }
 ],
 "metadata": {
  "kernelspec": {
   "display_name": "Python 3",
   "language": "python",
   "name": "python3"
  },
  "language_info": {
   "codemirror_mode": {
    "name": "ipython",
    "version": 3
   },
   "file_extension": ".py",
   "mimetype": "text/x-python",
   "name": "python",
   "nbconvert_exporter": "python",
   "pygments_lexer": "ipython3",
   "version": "3.11.4"
  }
 },
 "nbformat": 4,
 "nbformat_minor": 2
}
