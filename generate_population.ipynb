{
 "cells": [
  {
   "cell_type": "code",
   "execution_count": 3,
   "metadata": {},
   "outputs": [],
   "source": [
    "import pandas as pd\n",
    "import os\n",
    "import numpy as np"
   ]
  },
  {
   "cell_type": "code",
   "execution_count": 4,
   "metadata": {},
   "outputs": [],
   "source": [
    "\n",
    "# Load male names\n",
    "male_names = pd.read_csv('data/male_names.csv', header=None, usecols=[0]).iloc[:, 0].values\n",
    "\n",
    "# Load female names\n",
    "female_names = pd.read_csv('data/female_names.csv', header=None, usecols=[0]).iloc[:, 0].values\n",
    "\n",
    "# Load education categories\n",
    "education_categories = pd.read_csv('data/education_categories.csv', header=None, usecols=[0]).iloc[:, 0].values\n",
    "\n",
    "# Load skin colors\n",
    "skin_colors = pd.read_csv('data/skin_colors.csv', header=None, usecols=[0]).iloc[:, 0].values\n",
    "\n",
    "# Load ethnicities\n",
    "ethnicities  = pd.read_csv('data/ethnicities.csv', header=None, usecols=[0]).iloc[:, 0].values\n",
    "\n",
    "# Load religions\n",
    "religions = pd.read_csv('data/religions.csv', header=None, usecols=[0]).iloc[:, 0].values\n",
    "\n",
    "# Load colors\n",
    "colors = pd.read_csv('data/colors.csv', header=None, usecols=[0]).iloc[:, 0].values\n",
    "\n",
    "# Load utensils\n",
    "utensils = pd.read_csv('data/utensils.csv', header=None, usecols=[0]).iloc[:, 0].values\n",
    "\n",
    "# Load gibberish\n",
    "gibberish = pd.read_csv('data/gibberish.csv', header=None, usecols=[0]).iloc[:, 0].values\n"
   ]
  },
  {
   "cell_type": "code",
   "execution_count": 9,
   "metadata": {},
   "outputs": [],
   "source": [
    "# create folder of original_people if it does not exist\n",
    "if not os.path.exists('original_people'):\n",
    "    os.makedirs('original_people')\n"
   ]
  },
  {
   "cell_type": "code",
   "execution_count": 5,
   "metadata": {},
   "outputs": [],
   "source": [
    "def generate_population(people_count, path, experiment_type):\n",
    "    data = []\n",
    "\n",
    "    genders = ['Male', 'Female', 'Other']\n",
    "\n",
    "    \n",
    "\n",
    "    for i in range(people_count):\n",
    "        gender = np.random.choice(genders)\n",
    "        if gender == 'Male':\n",
    "            name = np.random.choice(male_names)\n",
    "        elif gender == 'Female':\n",
    "            name = np.random.choice(female_names)\n",
    "        else:\n",
    "            if np.random.random() > 0.5:\n",
    "                name = np.random.choice(male_names)\n",
    "            else:\n",
    "                name = np.random.choice(female_names)\n",
    "        if experiment_type == 'discrimination': \n",
    "            education_category = np.random.choice(education_categories)\n",
    "            skin_color = np.random.choice(skin_colors)\n",
    "            ethnicity = np.random.choice(ethnicities)\n",
    "            religion = np.random.choice(religions)\n",
    "        \n",
    "            # Create a dictionary for the person's information\n",
    "            person_info = {'Name': name, 'Gender': gender, 'Education': education_category, 'Skin Color': skin_color, 'Ethnicity': ethnicity, 'Religion': religion}\n",
    "        elif experiment_type == 'favorite color':\n",
    "            education_category = np.random.choice(education_categories)\n",
    "            favorite_color = np.random.choice(colors)\n",
    "            person_info = {'Name': name, 'Gender': gender, 'Education': education_category, 'Favorite Color': favorite_color}\n",
    "\n",
    "        elif experiment_type == 'favorite utensil':\n",
    "            education_category = np.random.choice(education_categories)\n",
    "            favorite_utensil = np.random.choice(utensils)\n",
    "            person_info = {'Name': name, 'Gender': gender, 'Education': education_category, 'Favorite Utensil': favorite_utensil}\n",
    "        \n",
    "        elif experiment_type == 'gibberish':\n",
    "            education_category = np.random.choice(education_categories)\n",
    "            gibberish_word = np.random.choice(gibberish)\n",
    "            person_info = {'Name': name, 'Gender': gender, 'Education': education_category, 'Alqpxm': gibberish_word}\n",
    "        # Append the dictionary to the data list\n",
    "        data.append(person_info)\n",
    "\n",
    "    # Create the DataFrame from the data list\n",
    "    df = pd.DataFrame(data)\n",
    "\n",
    "    if not os.path.exists(f'original_people/{path}'):\n",
    "        os.makedirs(f'original_people/{path}')\n",
    "\n",
    "    # name the file original_people.csv \n",
    "    index = 0\n",
    "    while os.path.exists(f'original_people/{path}/original_people_{index}.csv'):\n",
    "        index += 1\n",
    "    df.to_csv(f'original_people/{path}/original_people_{index}.csv', index=False)\n"
   ]
  },
  {
   "cell_type": "code",
   "execution_count": 6,
   "metadata": {},
   "outputs": [],
   "source": [
    "def generate_n_populations (n, people_count, path, experiment_type, remove_previous_files = True):\n",
    "    if remove_previous_files and os.path.exists(f'original_people/{path}'):\n",
    "        for file in os.listdir(f'original_people/{path}'):\n",
    "            os.remove(f'original_people/{path}/{file}')\n",
    "    \n",
    "    for _ in range(n):\n",
    "        generate_population(people_count, path, experiment_type)"
   ]
  },
  {
   "cell_type": "code",
   "execution_count": 7,
   "metadata": {},
   "outputs": [],
   "source": [
    "#generate_n_populations(n=20, people_count=100000, path='part a', experiment_type='discrimination', remove_previous_files=True)\n",
    "#generate_n_populations(n=220, people_count=100000, path='part b', experiment_type='discrimination', remove_previous_files=True)\n",
    "#generate_n_populations(n=20, people_count=100000, path='color', experiment_type='favorite color', remove_previous_files=True)\n",
    "#generate_n_populations(n=20, people_count=100000, path='utensil', experiment_type='favorite utensil', remove_previous_files=True)\n",
    "#generate_n_populations(n=100, people_count=100000, path='e', experiment_type='discrimination', remove_previous_files=True)\n",
    "#generate_n_populations(n=20, people_count=100000, path='gibberish', experiment_type='gibberish', remove_previous_files=True)\n",
    "\n",
    "\n",
    "#generate_n_populations(n=220, people_count=100000, path='part b', experiment_type='discrimination', remove_previous_files=False)\n"
   ]
  }
 ],
 "metadata": {
  "kernelspec": {
   "display_name": "Python 3",
   "language": "python",
   "name": "python3"
  },
  "language_info": {
   "codemirror_mode": {
    "name": "ipython",
    "version": 3
   },
   "file_extension": ".py",
   "mimetype": "text/x-python",
   "name": "python",
   "nbconvert_exporter": "python",
   "pygments_lexer": "ipython3",
   "version": "3.11.4"
  }
 },
 "nbformat": 4,
 "nbformat_minor": 2
}
